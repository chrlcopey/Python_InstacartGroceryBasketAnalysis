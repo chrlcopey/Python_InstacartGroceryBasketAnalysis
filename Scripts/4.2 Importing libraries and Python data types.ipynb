{
 "cells": [
  {
   "cell_type": "markdown",
   "id": "aa8fa4cf-fb78-4bfd-9083-4cde49528094",
   "metadata": {},
   "source": [
    "# 01. Importing libraries"
   ]
  },
  {
   "cell_type": "code",
   "execution_count": 3,
   "id": "89661ab0-d4c9-4161-9950-35546e57afd7",
   "metadata": {},
   "outputs": [],
   "source": [
    "# Import libraries\n",
    "import pandas as pd\n",
    "import numpy as np\n",
    "import os"
   ]
  },
  {
   "cell_type": "code",
   "execution_count": 7,
   "id": "6f241912-49d7-44f3-b95f-8a02d9e77fc9",
   "metadata": {},
   "outputs": [],
   "source": [
    "#code 3 different ways of reaching a result of 100 by adding or subtracting numeric values. \n",
    "x = 120\n",
    "y = 20"
   ]
  },
  {
   "cell_type": "code",
   "execution_count": 9,
   "id": "d7be2256-1b92-4fc8-9366-474ca7cb674f",
   "metadata": {},
   "outputs": [
    {
     "data": {
      "text/plain": [
       "100"
      ]
     },
     "execution_count": 9,
     "metadata": {},
     "output_type": "execute_result"
    }
   ],
   "source": [
    "x - y"
   ]
  },
  {
   "cell_type": "code",
   "execution_count": 12,
   "id": "ddcc7b91-cbd8-4fa6-8356-05ddd2c0040c",
   "metadata": {},
   "outputs": [],
   "source": [
    "x = 20\n",
    "y = 50\n",
    "z = 30"
   ]
  },
  {
   "cell_type": "code",
   "execution_count": 14,
   "id": "002b626b-4fb6-4ea7-ae34-9de10884a635",
   "metadata": {},
   "outputs": [
    {
     "data": {
      "text/plain": [
       "100"
      ]
     },
     "execution_count": 14,
     "metadata": {},
     "output_type": "execute_result"
    }
   ],
   "source": [
    "x+y+z"
   ]
  },
  {
   "cell_type": "code",
   "execution_count": 17,
   "id": "3af11e9c-60d2-44a5-b953-652c56f25915",
   "metadata": {},
   "outputs": [],
   "source": [
    "x=51\n",
    "y=49"
   ]
  },
  {
   "cell_type": "code",
   "execution_count": 19,
   "id": "b83768de-1ea4-4b07-a72a-dccbb0b156e4",
   "metadata": {},
   "outputs": [
    {
     "data": {
      "text/plain": [
       "100"
      ]
     },
     "execution_count": 19,
     "metadata": {},
     "output_type": "execute_result"
    }
   ],
   "source": [
    "x+y\n"
   ]
  },
  {
   "cell_type": "code",
   "execution_count": 22,
   "id": "194b562b-da71-49bb-8118-da6a0f4c3d09",
   "metadata": {},
   "outputs": [],
   "source": [
    "#code 2 floating-point variables and divide them by each other.\n",
    "a = 33.1\n",
    "b = 15.05"
   ]
  },
  {
   "cell_type": "code",
   "execution_count": 24,
   "id": "8324617c-4906-4302-8efe-ea1123c44bd3",
   "metadata": {},
   "outputs": [
    {
     "data": {
      "text/plain": [
       "2.1993355481727574"
      ]
     },
     "execution_count": 24,
     "metadata": {},
     "output_type": "execute_result"
    }
   ],
   "source": [
    "a/b"
   ]
  },
  {
   "cell_type": "code",
   "execution_count": 27,
   "id": "2fcb26bc-1428-4f31-9cef-dbaedb4be8b0",
   "metadata": {},
   "outputs": [],
   "source": [
    "#construct a short word made of separate strings.\n",
    "d = 'ger'\n",
    "e = 'ma'\n",
    "f = 'ny'"
   ]
  },
  {
   "cell_type": "code",
   "execution_count": 29,
   "id": "6f028bd2-8162-473e-a19a-941a43a0e3bb",
   "metadata": {},
   "outputs": [
    {
     "data": {
      "text/plain": [
       "'germany'"
      ]
     },
     "execution_count": 29,
     "metadata": {},
     "output_type": "execute_result"
    }
   ],
   "source": [
    "d + e + f"
   ]
  },
  {
   "cell_type": "code",
   "execution_count": 39,
   "id": "9e08bcea-19a8-402c-9f58-20612abd3a15",
   "metadata": {},
   "outputs": [],
   "source": [
    "#construct 2 short sentences made of separate strings.\n",
    "g = 'Python is a great lenguage program.'\n",
    "h = ' I like it.' "
   ]
  },
  {
   "cell_type": "code",
   "execution_count": 41,
   "id": "a0795b6d-b708-4810-9a24-c01d2383c5e4",
   "metadata": {},
   "outputs": [
    {
     "data": {
      "text/plain": [
       "'Python is a great lenguage program. I like it.'"
      ]
     },
     "execution_count": 41,
     "metadata": {},
     "output_type": "execute_result"
    }
   ],
   "source": [
    "g + h\n"
   ]
  },
  {
   "cell_type": "code",
   "execution_count": 44,
   "id": "bba6fdd5-db5d-4bf1-aa97-021053ef09de",
   "metadata": {},
   "outputs": [
    {
     "data": {
      "text/plain": [
       "'Python is a great lenguage program.Python is a great lenguage program.Python is a great lenguage program.Python is a great lenguage program.Python is a great lenguage program.Python is a great lenguage program.Python is a great lenguage program.Python is a great lenguage program.Python is a great lenguage program.Python is a great lenguage program.Python is a great lenguage program.Python is a great lenguage program.Python is a great lenguage program.Python is a great lenguage program.Python is a great lenguage program.Python is a great lenguage program.Python is a great lenguage program.Python is a great lenguage program.Python is a great lenguage program.Python is a great lenguage program.Python is a great lenguage program.Python is a great lenguage program.Python is a great lenguage program.Python is a great lenguage program.Python is a great lenguage program.Python is a great lenguage program.Python is a great lenguage program.Python is a great lenguage program.Python is a great lenguage program.Python is a great lenguage program.Python is a great lenguage program.Python is a great lenguage program.Python is a great lenguage program.Python is a great lenguage program.Python is a great lenguage program.Python is a great lenguage program.Python is a great lenguage program.Python is a great lenguage program.Python is a great lenguage program.Python is a great lenguage program.Python is a great lenguage program.Python is a great lenguage program.Python is a great lenguage program.Python is a great lenguage program.Python is a great lenguage program.Python is a great lenguage program.Python is a great lenguage program.Python is a great lenguage program.Python is a great lenguage program.Python is a great lenguage program.Python is a great lenguage program.Python is a great lenguage program.Python is a great lenguage program.Python is a great lenguage program.Python is a great lenguage program.Python is a great lenguage program.Python is a great lenguage program.Python is a great lenguage program.Python is a great lenguage program.Python is a great lenguage program.Python is a great lenguage program.Python is a great lenguage program.Python is a great lenguage program.Python is a great lenguage program.Python is a great lenguage program.Python is a great lenguage program.Python is a great lenguage program.Python is a great lenguage program.Python is a great lenguage program.Python is a great lenguage program.Python is a great lenguage program.Python is a great lenguage program.Python is a great lenguage program.Python is a great lenguage program.Python is a great lenguage program.Python is a great lenguage program.Python is a great lenguage program.Python is a great lenguage program.Python is a great lenguage program.Python is a great lenguage program.Python is a great lenguage program.Python is a great lenguage program.Python is a great lenguage program.Python is a great lenguage program.Python is a great lenguage program.Python is a great lenguage program.Python is a great lenguage program.Python is a great lenguage program.Python is a great lenguage program.Python is a great lenguage program.Python is a great lenguage program.Python is a great lenguage program.Python is a great lenguage program.Python is a great lenguage program.Python is a great lenguage program.Python is a great lenguage program.Python is a great lenguage program.Python is a great lenguage program.Python is a great lenguage program.Python is a great lenguage program.'"
      ]
     },
     "execution_count": 44,
     "metadata": {},
     "output_type": "execute_result"
    }
   ],
   "source": [
    "#Bonus Task: Write a command that makes a string appear 100 times. \n",
    "g * 100"
   ]
  },
  {
   "cell_type": "code",
   "execution_count": null,
   "id": "9b28a604-9601-4ba5-bf4f-8f3f9cd0fe73",
   "metadata": {},
   "outputs": [],
   "source": []
  }
 ],
 "metadata": {
  "kernelspec": {
   "display_name": "Python [conda env:base] *",
   "language": "python",
   "name": "conda-base-py"
  },
  "language_info": {
   "codemirror_mode": {
    "name": "ipython",
    "version": 3
   },
   "file_extension": ".py",
   "mimetype": "text/x-python",
   "name": "python",
   "nbconvert_exporter": "python",
   "pygments_lexer": "ipython3",
   "version": "3.12.7"
  }
 },
 "nbformat": 4,
 "nbformat_minor": 5
}
